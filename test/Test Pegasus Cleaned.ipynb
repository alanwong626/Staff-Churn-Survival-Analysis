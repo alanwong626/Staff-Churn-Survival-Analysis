{
 "cells": [
  {
   "cell_type": "code",
   "execution_count": 1,
   "id": "0a9d57ff",
   "metadata": {},
   "outputs": [],
   "source": [
    "import torch\n",
    "from transformers import PegasusTokenizer, PegasusForConditionalGeneration\n",
    "device = torch.device(\"cpu\")\n",
    "tokenizer = PegasusTokenizer.from_pretrained(\"google/pegasus-cnn_dailymail\", device=device)\n",
    "model = PegasusForConditionalGeneration.from_pretrained(\"google/pegasus-cnn_dailymail\").to(device)"
   ]
  },
  {
   "cell_type": "code",
   "execution_count": 36,
   "id": "de335b21",
   "metadata": {},
   "outputs": [
    {
     "data": {
      "text/plain": [
       "\"Cash-strapped China Evergrande Group, facing a deadline for coupon payments on Wednesday, may have made those payments.<n>Customers of international clearing firm Clearstream have received overdue payments on three U.S. dollar bonds.<n>Evergrande, the world's most indebted developer, has been stumbling from deadline to deadline in recent weeks.\""
      ]
     },
     "execution_count": 36,
     "metadata": {},
     "output_type": "execute_result"
    }
   ],
   "source": [
    "text = \"\"\"\n",
    "Cash-strapped China Evergrande Group, facing a deadline for coupon payments on Wednesday, may have made those payments, according to a report by Bloomberg, which said that customers of international clearing firm Clearstream have received overdue payments on three U.S. dollar bonds.\n",
    "\n",
    "Evergrande, the world's most indebted developer which once epitomised a freewheeling era of borrowing and building, has been stumbling from deadline to deadline in recent weeks as it grapples with more than $300 billion in liabilities, $19 billion of which are international market bonds.\n",
    "\n",
    "The company has not defaulted on any of its offshore debt obligations. But a 30-day grace period on coupon payments of more than $148 million on its April 2022, 2023 and 2024 bonds ends on Wednesday.\n",
    "\n",
    "A failure to pay would result in a formal default by the company and trigger cross-default provisions for other Evergrande dollar bonds, exacerbating a debt crisis looming over the world's second-largest economy.\n",
    "\n",
    "Exactly what time the grace period expires on Wednesday is unclear, but the two sources with knowledge of the matter earlier told Reuters that some bondholders had not been paid by the end of the Asian business day. They declined to be named as they were not authorised to speak to the media.\n",
    "\n",
    "Evergrande declined to comment.\n",
    "\n",
    "For its two separate offshore coupon payment obligations that were due in late September, the developer's bondholders did not receive the payments until one working day after the 30-day grace periods ended.\n",
    "\n",
    "\"The expectation is that it will be paid,\" said Karl Clowry, restructuring adviser and partner at Addleshaw Goddard LLP, also pointing to a potential easing in the weeks ahead of the so-called three red lines https://www.reuters.com/article/china-property-debt-rules/update-1-chinese-state-firms-ask-regulators-to-adjust-loan-curbs-for-property-deals-cailianshe-idINL1N2S10OY - financial requirements introduced by the central bank last year that developers must meet to get new bank loans.\n",
    "\n",
    "\"It would be quite a surprise if the funds do not flow to the trustee in the requisite timeframe given the immediate cross-default and ripple effect on suppliers and the wider People's Republic of China real estate market.\"\n",
    "\n",
    "Evergrande's problems add to concerns about a liquidity squeeze in the property sector. It also has coupon payments totalling more than $255 million on its June 2023 and 2025 bonds due on Dec. 28.\n",
    "\n",
    "China's property woes nL4N2RI1AS rattled global markets in September and October. There was a brief lull in mid-October after Beijing tried to reassure markets the crisis would not be allowed to spiral out of control.\n",
    "\n",
    "But concerns have resurfaced, with the U.S. Federal Reserve warning on Tuesday that China's property sector could pose global risks.\n",
    "\n",
    "More developers are seeing their credit ratings slashed on their worsening financial profiles.\n",
    "\n",
    "Kaisa has the most offshore debt of any Chinese developer, after Evergrande. The developer has coupon payments of more than $59 million due on Thursday and Friday.\n",
    "\n",
    "S&P Global Ratings said separately it had downgraded Shimao Group Holdings' rating to \"BB+\" from \"BBB-\" over concerns that tough business conditions would hinder the company's efforts to reduce debt.\n",
    "\n",
    "S&P considers a rating under \"BBB-\" to be speculative grade.\n",
    "\n",
    "Worries over the potential fallout from Evergrande have also slammed the bonds https://www.reuters.com/world/china/chinas-state-council-held-meeting-with-property-developers-banks-source-2021-11-09 of Chinese real estate companies.\n",
    "\n",
    "Shares of developer Fantasia Holdings plunged 50% on Wednesday after it said there was no guarantee it would be able to meet its other financial obligations following a missed payment of $205.7 million due on Oct. 4.\n",
    "\n",
    "\"\"\"\n",
    "tokens = tokenizer(text, truncation = True, padding = \"longest\", return_tensors=\"pt\")\n",
    "summary = model.generate(**tokens)\n",
    "tokenizer.decode(summary[0])\n"
   ]
  },
  {
   "cell_type": "code",
   "execution_count": 43,
   "id": "23910163",
   "metadata": {},
   "outputs": [
    {
     "data": {
      "text/plain": [
       "{'\"It would be quite a surprise if the funds do not flow to the trustee in the requisite timeframe given the immediate cross-default and ripple effect on suppliers and the wider People\\'s Republic of China real estate market.\"',\n",
       " '\"The expectation is that it will be paid,\" said Karl Clowry, restructuring adviser and partner at Addleshaw Goddard LLP, also pointing to a potential easing in the weeks ahead of the so-called three red lines https://www.reuters.com/article/china-property-debt-rules/update-1-chinese-state-firms-ask-regulators-to-adjust-loan-curbs-for-property-deals-cailianshe-idINL1N2S10OY - financial requirements introduced by the central bank last year that developers must meet to get new bank loans.',\n",
       " \"A failure to pay would result in a formal default by the company and trigger cross-default provisions for other Evergrande dollar bonds, exacerbating a debt crisis looming over the world's second-largest economy.\",\n",
       " \"But concerns have resurfaced, with the U.S. Federal Reserve warning on Tuesday that China's property sector could pose global risks.\",\n",
       " 'Cash-strapped China Evergrande Group, facing a deadline for coupon payments on Wednesday, may have made those payments, according to a report by Bloomberg, which said that customers of international clearing firm Clearstream have received overdue payments on three U.S. dollar bonds.',\n",
       " \"China's property woes nL4N2RI1AS rattled global markets in September and October. There was a brief lull in mid-October after Beijing tried to reassure markets the crisis would not be allowed to spiral out of control.\",\n",
       " 'Evergrande declined to comment.',\n",
       " \"Evergrande's problems add to concerns about a liquidity squeeze in the property sector. It also has coupon payments totalling more than $255 million on its June 2023 and 2025 bonds due on Dec. 28.\",\n",
       " \"Evergrande, the world's most indebted developer which once epitomised a freewheeling era of borrowing and building, has been stumbling from deadline to deadline in recent weeks as it grapples with more than $300 billion in liabilities, $19 billion of which are international market bonds.\",\n",
       " 'Exactly what time the grace period expires on Wednesday is unclear, but the two sources with knowledge of the matter earlier told Reuters that some bondholders had not been paid by the end of the Asian business day. They declined to be named as they were not authorised to speak to the media.',\n",
       " \"For its two separate offshore coupon payment obligations that were due in late September, the developer's bondholders did not receive the payments until one working day after the 30-day grace periods ended.\",\n",
       " 'Kaisa has the most offshore debt of any Chinese developer, after Evergrande. The developer has coupon payments of more than $59 million due on Thursday and Friday.',\n",
       " 'More developers are seeing their credit ratings slashed on their worsening financial profiles.',\n",
       " 'S&P Global Ratings said separately it had downgraded Shimao Group Holdings\\' rating to \"BB+\" from \"BBB-\" over concerns that tough business conditions would hinder the company\\'s efforts to reduce debt.',\n",
       " 'S&P considers a rating under \"BBB-\" to be speculative grade.',\n",
       " 'Shares of developer Fantasia Holdings plunged 50% on Wednesday after it said there was no guarantee it would be able to meet its other financial obligations following a missed payment of $205.7 million due on Oct. 4.',\n",
       " 'The company has not defaulted on any of its offshore debt obligations. But a 30-day grace period on coupon payments of more than $148 million on its April 2022, 2023 and 2024 bonds ends on Wednesday.',\n",
       " 'Worries over the potential fallout from Evergrande have also slammed the bonds https://www.reuters.com/world/china/chinas-state-council-held-meeting-with-property-developers-banks-source-2021-11-09 of Chinese real estate companies.'}"
      ]
     },
     "execution_count": 43,
     "metadata": {},
     "output_type": "execute_result"
    }
   ],
   "source": [
    "text_list"
   ]
  },
  {
   "cell_type": "code",
   "execution_count": 42,
   "id": "677e2d0c",
   "metadata": {},
   "outputs": [
    {
     "data": {
      "text/plain": [
       "['Kaisa has the most offshore debt of any Chinese developer, after Evergrande. The developer has coupon payments of more than $59 million due on Thursday and Friday.',\n",
       " 'Worries over the potential fallout from Evergrande have also slammed the bonds https://www.reuters.com/world/china/chinas-state-council-held-meeting-with-property-developers-banks-source-2021-11-09 of Chinese real estate companies.',\n",
       " \"China's property woes nL4N2RI1AS rattled global markets in September and October. There was a brief lull in mid-October after Beijing tried to reassure markets the crisis would not be allowed to spiral out of control.\",\n",
       " 'S&P considers a rating under \"BBB-\" to be speculative grade.',\n",
       " '\"The expectation is that it will be paid,\" said Karl Clowry, restructuring adviser and partner at Addleshaw Goddard LLP, also pointing to a potential easing in the weeks ahead of the so-called three red lines https://www.reuters.com/article/china-property-debt-rules/update-1-chinese-state-firms-ask-regulators-to-adjust-loan-curbs-for-property-deals-cailianshe-idINL1N2S10OY - financial requirements introduced by the central bank last year that developers must meet to get new bank loans.',\n",
       " 'Evergrande declined to comment.',\n",
       " 'Cash-strapped China Evergrande Group, facing a deadline for coupon payments on Wednesday, may have made those payments, according to a report by Bloomberg, which said that customers of international clearing firm Clearstream have received overdue payments on three U.S. dollar bonds.',\n",
       " 'More developers are seeing their credit ratings slashed on their worsening financial profiles.',\n",
       " \"But concerns have resurfaced, with the U.S. Federal Reserve warning on Tuesday that China's property sector could pose global risks.\",\n",
       " 'Shares of developer Fantasia Holdings plunged 50% on Wednesday after it said there was no guarantee it would be able to meet its other financial obligations following a missed payment of $205.7 million due on Oct. 4.',\n",
       " \"A failure to pay would result in a formal default by the company and trigger cross-default provisions for other Evergrande dollar bonds, exacerbating a debt crisis looming over the world's second-largest economy.\",\n",
       " \"Evergrande, the world's most indebted developer which once epitomised a freewheeling era of borrowing and building, has been stumbling from deadline to deadline in recent weeks as it grapples with more than $300 billion in liabilities, $19 billion of which are international market bonds.\",\n",
       " 'Exactly what time the grace period expires on Wednesday is unclear, but the two sources with knowledge of the matter earlier told Reuters that some bondholders had not been paid by the end of the Asian business day. They declined to be named as they were not authorised to speak to the media.',\n",
       " \"For its two separate offshore coupon payment obligations that were due in late September, the developer's bondholders did not receive the payments until one working day after the 30-day grace periods ended.\",\n",
       " '\"It would be quite a surprise if the funds do not flow to the trustee in the requisite timeframe given the immediate cross-default and ripple effect on suppliers and the wider People\\'s Republic of China real estate market.\"',\n",
       " \"Evergrande's problems add to concerns about a liquidity squeeze in the property sector. It also has coupon payments totalling more than $255 million on its June 2023 and 2025 bonds due on Dec. 28.\",\n",
       " 'The company has not defaulted on any of its offshore debt obligations. But a 30-day grace period on coupon payments of more than $148 million on its April 2022, 2023 and 2024 bonds ends on Wednesday.',\n",
       " 'S&P Global Ratings said separately it had downgraded Shimao Group Holdings\\' rating to \"BB+\" from \"BBB-\" over concerns that tough business conditions would hinder the company\\'s efforts to reduce debt.']"
      ]
     },
     "execution_count": 42,
     "metadata": {},
     "output_type": "execute_result"
    }
   ],
   "source": [
    "text_list = set(text.split(\"\\n\"))\n",
    "(text_list).remove(\"\")\n",
    "list(text_list)"
   ]
  },
  {
   "cell_type": "code",
   "execution_count": null,
   "id": "5991b1a1",
   "metadata": {},
   "outputs": [],
   "source": [
    "#\n"
   ]
  },
  {
   "cell_type": "code",
   "execution_count": 31,
   "id": "bcc9a11e",
   "metadata": {},
   "outputs": [],
   "source": [
    "import requests\n",
    "url = \"https://finance.yahoo.com/news/rpt-wrapup-6-evergrande-faces-231438736.html\"\n",
    "response = requests.get(url)\n",
    "# text = response.text"
   ]
  },
  {
   "cell_type": "code",
   "execution_count": 24,
   "id": "876d35dc",
   "metadata": {},
   "outputs": [],
   "source": [
    "from bs4 import BeautifulSoup"
   ]
  },
  {
   "cell_type": "code",
   "execution_count": 25,
   "id": "26b5c62b",
   "metadata": {},
   "outputs": [],
   "source": [
    "text = BeautifulSoup(response.text).get_text()"
   ]
  },
  {
   "cell_type": "code",
   "execution_count": null,
   "id": "fdccd368",
   "metadata": {},
   "outputs": [],
   "source": []
  },
  {
   "cell_type": "code",
   "execution_count": 29,
   "id": "ae998c0e",
   "metadata": {},
   "outputs": [
    {
     "data": {
      "text/plain": [
       "\"Cash-strapped China Evergrande Group, facing a deadline for coupon payments on Wednesday, may have made those payments.<n>Customers of international clearing firm Clearstream have received overdue payments on three U.S. dollar bonds.<n>Evergrande, the world's most indebted developer, has been stumbling from deadline to deadline in recent weeks.\""
      ]
     },
     "execution_count": 29,
     "metadata": {},
     "output_type": "execute_result"
    }
   ],
   "source": [
    "tokens = tokenizer(text, truncation = True, padding = \"longest\", return_tensors=\"pt\")\n",
    "summary = model.generate(**tokens)\n",
    "tokenizer.decode(summary[0])\n"
   ]
  },
  {
   "cell_type": "code",
   "execution_count": null,
   "id": "bcfa65c2",
   "metadata": {},
   "outputs": [],
   "source": []
  }
 ],
 "metadata": {
  "kernelspec": {
   "display_name": "Python 3",
   "language": "python",
   "name": "python3"
  },
  "language_info": {
   "codemirror_mode": {
    "name": "ipython",
    "version": 3
   },
   "file_extension": ".py",
   "mimetype": "text/x-python",
   "name": "python",
   "nbconvert_exporter": "python",
   "pygments_lexer": "ipython3",
   "version": "3.8.8"
  }
 },
 "nbformat": 4,
 "nbformat_minor": 5
}
